{
 "cells": [
  {
   "cell_type": "code",
   "execution_count": null,
   "metadata": {},
   "outputs": [],
   "source": [
    "# Imports\n",
    "import os \n",
    "import pandas as pd\n",
    "from django.core.exceptions import ValidationError\n",
    "\n",
    "#Data path\n",
    "data_path = '/home/django/export_migration_data/'"
   ]
  },
  {
   "cell_type": "code",
   "execution_count": null,
   "metadata": {},
   "outputs": [],
   "source": []
  },
  {
   "cell_type": "code",
   "execution_count": null,
   "metadata": {},
   "outputs": [],
   "source": [
    "# TD Consent version\n",
    "td_consent_versions = TdConsentVersion.objects.all()\n",
    "consent_version_data = []\n",
    "for consent_version in td_consent_versions:\n",
    "    data = consent_version.__dict__\n",
    "    consent_version_data.append(data)\n",
    "df_consent_version = pd.DataFrame(consent_version_data)\n",
    "consent_version_file = 'td_consent_version.csv'\n",
    "fpath = data_path + consent_version_file\n",
    "df_consent_version.to_csv(fpath, sep='|', encoding='utf-8')"
   ]
  },
  {
   "cell_type": "code",
   "execution_count": null,
   "metadata": {},
   "outputs": [],
   "source": [
    "# Maternal Eligibility\n",
    "maternal_eligibility = MaternalEligibility.objects.all()\n",
    "maternal_eligibility_data = []\n",
    "for me in maternal_eligibility:\n",
    "    data = me.__dict__\n",
    "    maternal_eligibility_data.append(data)\n",
    "df_maternal_eligibility = pd.DataFrame(maternal_eligibility_data)\n",
    "maternal_eligibility_file = 'maternal_eligibility.csv'\n",
    "fpath = data_path + maternal_eligibility_file\n",
    "df_maternal_eligibility.to_csv(fpath, sep='|', encoding='utf-8')"
   ]
  },
  {
   "cell_type": "code",
   "execution_count": null,
   "metadata": {},
   "outputs": [],
   "source": [
    "# Subject Consent\n",
    "maternal_consent = MaternalConsent.objects.all()\n",
    "maternal_consent_data = []\n",
    "for mc in maternal_consent:\n",
    "    data = mc.__dict__\n",
    "    maternal_consent_data.append(data)\n",
    "df_maternal_consent = pd.DataFrame(maternal_consent_data)\n",
    "maternal_consent_file = 'maternal_consent.csv'\n",
    "fpath = data_path + maternal_consent_file\n",
    "df_maternal_consent.to_csv(fpath, sep='|', encoding='utf-8')"
   ]
  },
  {
   "cell_type": "code",
   "execution_count": null,
   "metadata": {},
   "outputs": [],
   "source": [
    "# Antenatal Enrollment\n",
    "antenatal_enrollment = AntenatalEnrollment.objects.all()\n",
    "antenatal_enrollment_data = []\n",
    "for ae in antenatal_enrollment:\n",
    "    data = ae.__dict__\n",
    "    antenatal_enrollment_data.append(data)\n",
    "df_antenatal_enrollment = pd.DataFrame(antenatal_enrollment_data)\n",
    "antenatal_enrollment_file = 'antenatal_enrollment.csv'\n",
    "fpath = data_path + antenatal_enrollment_file\n",
    "df_antenatal_enrollment.to_csv(fpath, sep='|', encoding='utf-8')"
   ]
  },
  {
   "cell_type": "code",
   "execution_count": null,
   "metadata": {},
   "outputs": [],
   "source": [
    "# Antenatal Visit Membership\n",
    "antenatal_visit_membership = AntenatalVisitMembership.objects.all()\n",
    "antenatal_visit_membership_data = []\n",
    "for avm in antenatal_visit_membership:\n",
    "    data = avm.__dict__\n",
    "    antenatal_visit_membership_data.append(data)\n",
    "df_antenatal_visit_membership = pd.DataFrame(antenatal_visit_membership_data)\n",
    "antenatal_visit_membership_file = 'antenatal_visit_membership.csv'\n",
    "fpath = data_path + antenatal_visit_membership_file\n",
    "df_antenatal_visit_membership.to_csv(fpath, sep='|', encoding='utf-8')"
   ]
  },
  {
   "cell_type": "code",
   "execution_count": null,
   "metadata": {},
   "outputs": [],
   "source": [
    "# Specimen Consent\n",
    "specimen_consent = SpecimenConsent.objects.all()\n",
    "specimen_consent_data = []\n",
    "for sc in specimen_consent:\n",
    "    data = sc.__dict__\n",
    "    specimen_consent_data.append(data)\n",
    "df_specimen_consent = pd.DataFrame(specimen_consent_data)\n",
    "specimen_consent_file = 'specimen_consent.csv'\n",
    "fpath = data_path + specimen_consent_file\n",
    "df_specimen_consent.to_csv(fpath, sep='|', encoding='utf-8')"
   ]
  },
  {
   "cell_type": "code",
   "execution_count": null,
   "metadata": {},
   "outputs": [],
   "source": [
    "# Registered Subject\n",
    "registered_subject = RegisteredSubject.objects.all()\n",
    "registered_subject_data = []\n",
    "for rs in registered_subject:\n",
    "    data = rs.__dict__\n",
    "    registered_subject_data.append(data)\n",
    "df_registered_subject = pd.DataFrame(registered_subject_data)\n",
    "registered_subject_file = 'registered_subject.csv'\n",
    "fpath = data_path + registered_subject_file\n",
    "df_registered_subject.to_csv(fpath, sep='|', encoding='utf-8')"
   ]
  },
  {
   "cell_type": "code",
   "execution_count": null,
   "metadata": {},
   "outputs": [],
   "source": [
    "# Maternal Locator\n",
    "maternal_locator = MaternalLocator.objects.all()\n",
    "maternal_locator_data = []\n",
    "for ml in maternal_locator:\n",
    "    data = ml.__dict__\n",
    "    maternal_locator_data.append(data)\n",
    "df_maternal_locator = pd.DataFrame(maternal_locator_data)\n",
    "maternal_locator_file = 'maternal_locator.csv'\n",
    "fpath = data_path + maternal_locator_file\n",
    "df_maternal_locator.to_csv(fpath, sep='|', encoding='utf-8')"
   ]
  },
  {
   "cell_type": "code",
   "execution_count": null,
   "metadata": {},
   "outputs": [],
   "source": [
    "# Appointment\n",
    "appointments = Appointment.objects.all()\n",
    "appointment_data = []\n",
    "for ap in appointments:\n",
    "    data = ap.__dict__\n",
    "    appointments_data.append(data)\n",
    "df_appointments = pd.DataFrame(appointments_data)\n",
    "appointments_file = 'appointments.csv'\n",
    "fpath = data_path + appointments_file\n",
    "df_appointments.to_csv(fpath, sep='|', encoding='utf-8')"
   ]
  },
  {
   "cell_type": "code",
   "execution_count": null,
   "metadata": {},
   "outputs": [],
   "source": [
    "# Maternal Visit\n",
    "maternal_visits = MaternalVisit.objects.all()\n",
    "maternal_visits_data = []\n",
    "for mv in maternal_visits:\n",
    "    data = ml.__dict__\n",
    "    maternal_visits_data.append(data)\n",
    "df_maternal_visits = pd.DataFrame(maternal_visits_data)\n",
    "maternal_visits_file = 'maternal_visits.csv'\n",
    "fpath = data_path + maternal_visits_file\n",
    "df_maternal_visits.to_csv(fpath, sep='|', encoding='utf-8')"
   ]
  },
  {
   "cell_type": "code",
   "execution_count": null,
   "metadata": {},
   "outputs": [],
   "source": [
    "# Maternal Labour Del\n",
    "maternal_labour_del = MaternalLabourDel.objects.all()\n",
    "maternal_labour_del_data = []\n",
    "for mld in maternal_labour_del:\n",
    "    data = mld.__dict__\n",
    "    maternal_labour_del_data.append(data)\n",
    "df_maternal_labour_del = pd.DataFrame(maternal_labour_del_data)\n",
    "maternal_labour_del_file = 'maternal_labour_del.csv'\n",
    "fpath = data_path + maternal_labour_del_file\n",
    "df_maternal_labour_del.to_csv(fpath, sep='|', encoding='utf-8')"
   ]
  },
  {
   "cell_type": "code",
   "execution_count": null,
   "metadata": {},
   "outputs": [],
   "source": []
  }
 ],
 "metadata": {
  "kernelspec": {
   "display_name": "Django Shell-Plus",
   "language": "python",
   "name": "django_extensions"
  },
  "language_info": {
   "codemirror_mode": {
    "name": "ipython",
    "version": 3
   },
   "file_extension": ".py",
   "mimetype": "text/x-python",
   "name": "python",
   "nbconvert_exporter": "python",
   "pygments_lexer": "ipython3",
   "version": "3.7.2"
  }
 },
 "nbformat": 4,
 "nbformat_minor": 2
}
