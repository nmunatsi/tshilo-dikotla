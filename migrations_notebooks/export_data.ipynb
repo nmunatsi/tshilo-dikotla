{
 "cells": [
  {
   "cell_type": "code",
   "execution_count": null,
   "metadata": {},
   "outputs": [],
   "source": [
    "# Imports\n",
    "import os \n",
    "import pandas as pd\n",
    "from django.core.exceptions import ValidationError\n",
    "\n",
    "#Data path\n",
    "data_path = '/home/django/export_migration_data/'"
   ]
  },
  {
   "cell_type": "code",
   "execution_count": null,
   "metadata": {},
   "outputs": [],
   "source": []
  },
  {
   "cell_type": "code",
   "execution_count": null,
   "metadata": {},
   "outputs": [],
   "source": [
    "# TD Consent version\n",
    "td_consent_versions = TdConsentVersion.objects.all()\n",
    "consent_version_data = []\n",
    "for consent_version in td_consent_versions:\n",
    "    data = consent_version.__dict__\n",
    "    consent_version_data.append(data)\n",
    "df_consent_version = pd.DataFrame(consent_version_data)\n",
    "consent_version_file = 'td_consent_version.csv'\n",
    "fpath = data_path + consent_version_file\n",
    "df_consent_version.to_csv(fpath, sep='|', encoding='utf-8')"
   ]
  },
  {
   "cell_type": "code",
   "execution_count": null,
   "metadata": {},
   "outputs": [],
   "source": [
    "# Maternal Eligibility\n",
    "maternal_eligibility = MaternalEligibility.objects.all()\n",
    "maternal_eligibility_data = []\n",
    "for me in maternal_eligibility:\n",
    "    data = me.__dict__\n",
    "    maternal_eligibility_data.append(data)\n",
    "df_maternal_eligibility = pd.DataFrame(maternal_eligibility_data)\n",
    "maternal_eligibility_file = 'maternal_eligibility.csv'\n",
    "fpath = data_path + maternal_eligibility_file\n",
    "df_maternal_eligibility.to_csv(fpath, sep='|', encoding='utf-8')"
   ]
  },
  {
   "cell_type": "code",
   "execution_count": null,
   "metadata": {},
   "outputs": [],
   "source": [
    "# Subject Consent\n",
    "maternal_consent = MaternalConsent.objects.all()\n",
    "maternal_consent_data = []\n",
    "for mc in maternal_consent:\n",
    "    data = mc.__dict__\n",
    "    maternal_consent_data.append(data)\n",
    "df_maternal_consent = pd.DataFrame(maternal_consent_data)\n",
    "maternal_consent_file = 'maternal_consent.csv'\n",
    "fpath = data_path + maternal_consent_file\n",
    "df_maternal_consent.to_csv(fpath, sep='|', encoding='utf-8')"
   ]
  },
  {
   "cell_type": "code",
   "execution_count": null,
   "metadata": {},
   "outputs": [],
   "source": [
    "# Antenatal Enrollment\n",
    "antenatal_enrollment = AntenatalEnrollment.objects.all()\n",
    "antenatal_enrollment_data = []\n",
    "for ae in antenatal_enrollment:\n",
    "    data = ae.__dict__\n",
    "    antenatal_enrollment_data.append(data)\n",
    "df_antenatal_enrollment = pd.DataFrame(antenatal_enrollment_data)\n",
    "antenatal_enrollment_file = 'antenatal_enrollment.csv'\n",
    "fpath = data_path + antenatal_enrollment_file\n",
    "df_antenatal_enrollment.to_csv(fpath, sep='|', encoding='utf-8')"
   ]
  },
  {
   "cell_type": "code",
   "execution_count": null,
   "metadata": {},
   "outputs": [],
   "source": [
    "# Antenatal Visit Membership\n",
    "antenatal_visit_membership = AntenatalVisitMembership.objects.all()\n",
    "antenatal_visit_membership_data = []\n",
    "for avm in antenatal_visit_membership:\n",
    "    data = avm.__dict__\n",
    "    antenatal_visit_membership_data.append(data)\n",
    "df_antenatal_visit_membership = pd.DataFrame(antenatal_visit_membership_data)\n",
    "antenatal_visit_membership_file = 'antenatal_visit_membership.csv'\n",
    "fpath = data_path + antenatal_visit_membership_file\n",
    "df_antenatal_visit_membership.to_csv(fpath, sep='|', encoding='utf-8')"
   ]
  },
  {
   "cell_type": "code",
   "execution_count": null,
   "metadata": {},
   "outputs": [],
   "source": [
    "# Specimen Consent\n",
    "specimen_consent = SpecimenConsent.objects.all()\n",
    "specimen_consent_data = []\n",
    "for sc in specimen_consent:\n",
    "    data = sc.__dict__\n",
    "    specimen_consent_data.append(data)\n",
    "df_specimen_consent = pd.DataFrame(specimen_consent_data)\n",
    "specimen_consent_file = 'specimen_consent.csv'\n",
    "fpath = data_path + specimen_consent_file\n",
    "df_specimen_consent.to_csv(fpath, sep='|', encoding='utf-8')"
   ]
  },
  {
   "cell_type": "code",
   "execution_count": null,
   "metadata": {},
   "outputs": [],
   "source": [
    "# Registered Subject\n",
    "registered_subject = RegisteredSubject.objects.all()\n",
    "registered_subject_data = []\n",
    "for rs in registered_subject:\n",
    "    data = rs.__dict__\n",
    "    registered_subject_data.append(data)\n",
    "df_registered_subject = pd.DataFrame(registered_subject_data)\n",
    "registered_subject_file = 'registered_subject.csv'\n",
    "fpath = data_path + registered_subject_file\n",
    "df_registered_subject.to_csv(fpath, sep='|', encoding='utf-8')"
   ]
  },
  {
   "cell_type": "code",
   "execution_count": null,
   "metadata": {},
   "outputs": [],
   "source": [
    "# Maternal Locator\n",
    "maternal_locator = MaternalLocator.objects.all()\n",
    "maternal_locator_data = []\n",
    "for ml in maternal_locator:\n",
    "    data = ml.__dict__\n",
    "    data.update(subject_identifier=ml.registered_subject.subject_identifier)\n",
    "    maternal_locator_data.append(data)\n",
    "df_maternal_locator = pd.DataFrame(maternal_locator_data)\n",
    "maternal_locator_file = 'maternal_locator.csv'\n",
    "fpath = data_path + maternal_locator_file\n",
    "df_maternal_locator.to_csv(fpath, sep='|', encoding='utf-8')"
   ]
  },
  {
   "cell_type": "code",
   "execution_count": null,
   "metadata": {},
   "outputs": [],
   "source": [
    "# Appointment\n",
    "appointments = Appointment.objects.all()\n",
    "appointment_data = []\n",
    "for ap in appointments:\n",
    "    data = ap.__dict__\n",
    "    appointments_data.append(data)\n",
    "df_appointments = pd.DataFrame(appointments_data)\n",
    "appointments_file = 'appointments.csv'\n",
    "fpath = data_path + appointments_file\n",
    "df_appointments.to_csv(fpath, sep='|', encoding='utf-8')"
   ]
  },
  {
   "cell_type": "code",
   "execution_count": null,
   "metadata": {},
   "outputs": [],
   "source": [
    "# Maternal Visit\n",
    "maternal_visits = MaternalVisit.objects.all()\n",
    "maternal_visits_data = []\n",
    "for mv in maternal_visits:\n",
    "    data = ml.__dict__\n",
    "    maternal_visits_data.append(data)\n",
    "df_maternal_visits = pd.DataFrame(maternal_visits_data)\n",
    "maternal_visits_file = 'maternal_visits.csv'\n",
    "fpath = data_path + maternal_visits_file\n",
    "df_maternal_visits.to_csv(fpath, sep='|', encoding='utf-8')"
   ]
  },
  {
   "cell_type": "code",
   "execution_count": null,
   "metadata": {},
   "outputs": [],
   "source": [
    "# Maternal Labour Del\n",
    "maternal_labour_del = MaternalLabourDel.objects.all()\n",
    "maternal_labour_del_data = []\n",
    "for mld in maternal_labour_del:\n",
    "    data = mld.__dict__\n",
    "    maternal_labour_del_data.append(data)\n",
    "df_maternal_labour_del = pd.DataFrame(maternal_labour_del_data)\n",
    "maternal_labour_del_file = 'maternal_labour_del.csv'\n",
    "fpath = data_path + maternal_labour_del_file\n",
    "df_maternal_labour_del.to_csv(fpath, sep='|', encoding='utf-8')"
   ]
  },
  {
   "cell_type": "code",
   "execution_count": null,
   "metadata": {},
   "outputs": [],
   "source": [
    "# Maternal CRFS\n",
    "from django.db.models import get_model\n",
    "crf_list = []\n",
    "data_path = '/home/django/export_migration_data/maternal_crfs/'\n",
    "for model_name in crf_list:\n",
    "    cls = get_model('td_maternal', model_name)\n",
    "    objs = cls.objects.all()\n",
    "    crf_data = []\n",
    "    crf_file_path = data_path + model_name + '.csv'\n",
    "    for obj in objs:\n",
    "        data = obj.__dict__\n",
    "        data.update(\n",
    "        subject_visit_id=obj.subject_visit.id)\n",
    "        crf_data.append(data)\n",
    "    df_crf = pd.DataFrame(crf_data)\n",
    "    df_crf.to_csv(crf_file_path, sep='|', encoding='utf-8')"
   ]
  },
  {
   "cell_type": "code",
   "execution_count": null,
   "metadata": {},
   "outputs": [],
   "source": [
    "# Export Maternal requisitions\n",
    "from datetime import datetime\n",
    "m_requisition = MaternalRequisition.objects.all()\n",
    "mr_file_name = 'maternal_requisition.csv'\n",
    "mr_file_path = data_path + mr_file_name\n",
    "mr_data = []\n",
    "for mr in m_requisition:\n",
    "    data = mr.__dict__\n",
    "    data.update(subject_visit_id=mr.subject_visit.id)\n",
    "    mr_data.append(data)\n",
    "df_mr = pd.DataFrame(mr_data)\n",
    "df_mr.to_csv(mr_file_path, sep='|', encoding='utf-8')"
   ]
  },
  {
   "cell_type": "code",
   "execution_count": null,
   "metadata": {},
   "outputs": [],
   "source": [
    "# Infant Birth\n",
    "infant_birth = InfantBirth.objects.all()\n",
    "infant_birth_data = []\n",
    "for ib in infant_birth:\n",
    "    data = ib.__dict__\n",
    "    infant_birth_data.append(data)\n",
    "df_infant_birth = pd.DataFrame(infant_birth_data)\n",
    "infant_birth_file = 'infant_birth.csv'\n",
    "fpath = data_path + infant_birth_file\n",
    "df_infant_birth.to_csv(fpath, sep='|', encoding='utf-8')"
   ]
  },
  {
   "cell_type": "code",
   "execution_count": null,
   "metadata": {},
   "outputs": [],
   "source": [
    "# InfantVisit\n",
    "infant_visit = InfantVisit.objects.all()\n",
    "infant_visit_data = []\n",
    "for iv in infant_visit:\n",
    "    data = iv.__dict__\n",
    "    infant_visit_data.append(data)\n",
    "df_infant_visit = pd.DataFrame(infant_visit_data)\n",
    "infant_visit_file = 'infant_visit.csv'\n",
    "fpath = data_path + infant_visit_file\n",
    "df_infant_visit.to_csv(fpath, sep='|', encoding='utf-8')"
   ]
  },
  {
   "cell_type": "code",
   "execution_count": null,
   "metadata": {},
   "outputs": [],
   "source": [
    "# Infant CRFS\n",
    "from django.db.models import get_model\n",
    "crf_list = []\n",
    "data_path = '/home/django/export_migration_data/infant_crfs/'\n",
    "for model_name in crf_list:\n",
    "    cls = get_model('td_infant', model_name)\n",
    "    objs = cls.objects.all()\n",
    "    crf_data = []\n",
    "    crf_file_path = data_path + model_name + '.csv'\n",
    "    for obj in objs:\n",
    "        data = obj.__dict__\n",
    "        data.update(\n",
    "        subject_visit_id=obj.subject_visit.id)\n",
    "        crf_data.append(data)\n",
    "    df_crf = pd.DataFrame(crf_data)\n",
    "    df_crf.to_csv(crf_file_path, sep='|', encoding='utf-8')"
   ]
  },
  {
   "cell_type": "code",
   "execution_count": null,
   "metadata": {},
   "outputs": [],
   "source": [
    "# Export Infant requisitions\n",
    "from datetime import datetime\n",
    "infant_requisition = InfantRequisition.objects.all()\n",
    "ir_file_name = 'infant_requisition.csv'\n",
    "ir_file_path = data_path + ir_file_name\n",
    "ir_data = []\n",
    "for ir in infant_requisition:\n",
    "    data = ir.__dict__\n",
    "    data.update(subject_visit_id=ir.subject_visit.id)\n",
    "    ir_data.append(data)\n",
    "df_ir = pd.DataFrame(ir_data)\n",
    "df_ir.to_csv(mr_file_path, sep='|', encoding='utf-8')"
   ]
  },
  {
   "cell_type": "code",
   "execution_count": null,
   "metadata": {},
   "outputs": [],
   "source": [
    "# Export Maternal Death Report\n",
    "from datetime import datetime\n",
    "maternal_death_report = MaternalDeathReport.objects.all()\n",
    "md_file_name = 'maternal_death_report.csv'\n",
    "md_file_path = data_path + md_file_name\n",
    "md_data = []\n",
    "for md in maternal_death_report:\n",
    "    data = md.__dict__\n",
    "    data.update(\n",
    "        subject_identifier=md.registered_subject.subject_identifier)\n",
    "    md_data.append(data)\n",
    "df_md = pd.DataFrame(md_data)\n",
    "df_md.to_csv(sd_file_path, sep='|', encoding='utf-8')"
   ]
  },
  {
   "cell_type": "code",
   "execution_count": null,
   "metadata": {},
   "outputs": [],
   "source": [
    "# Export Infant Death Report\n",
    "from datetime import datetime\n",
    "infant_death_report = InfantDeathReport.objects.all()\n",
    "id_file_name = 'infant_death_report.csv'\n",
    "id_file_path = data_path + id_file_name\n",
    "id_data = []\n",
    "for id in infant_death_report:\n",
    "    data = id.__dict__\n",
    "    data.update(\n",
    "        subject_identifier=id.registered_subject.subject_identifier)\n",
    "    id_data.append(data)\n",
    "df_id = pd.DataFrame(id_data)\n",
    "df_id.to_csv(id_file_path, sep='|', encoding='utf-8')"
   ]
  },
  {
   "cell_type": "code",
   "execution_count": null,
   "metadata": {},
   "outputs": [],
   "source": [
    "\n",
    "# Export Maternal Off Study\n",
    "maternal_off_study = MaternalOffStudy.objects.all()\n",
    "mo_file_name = 'maternal_off_study.csv'\n",
    "mo_file_path = data_path + mo_file_name\n",
    "mo_data = []\n",
    "for mo in maternal_off_study:\n",
    "    data = mo.__dict__\n",
    "    data.update(\n",
    "        subject_visit_id=mo.subject_visit.id,\n",
    "        subject_identifier=mo.registered_subject.subject_identifier)\n",
    "    mo_data.append(data)\n",
    "df_mo = pd.DataFrame(mo_data)\n",
    "df_mo.to_csv(mo_file_path, sep='|', encoding='utf-8')"
   ]
  },
  {
   "cell_type": "code",
   "execution_count": null,
   "metadata": {},
   "outputs": [],
   "source": [
    "# Infant Off Study\n",
    "infant_off_study = InfantOffStudy.objects.all()\n",
    "io_file_name = 'infant_off_study.csv'\n",
    "io_file_path = data_path + mo_file_name\n",
    "io_data = []\n",
    "for io in infant_off_study:\n",
    "    data = io.__dict__\n",
    "    data.update(\n",
    "        subject_visit_id=io.subject_visit.id,\n",
    "        subject_identifier=io.registered_subject.subject_identifier)\n",
    "    io_data.append(data)\n",
    "df_io = pd.DataFrame(mo_data)\n",
    "df_io.to_csv(io_file_path, sep='|', encoding='utf-8')"
   ]
  },
  {
   "cell_type": "code",
   "execution_count": null,
   "metadata": {},
   "outputs": [],
   "source": [
    "# Export List Data\n",
    "from django.db.models import get_model\n",
    "list_models = []\n",
    "for model_name in list_models:\n",
    "    cls = get_model('td_list', model_name)\n",
    "    objs = cls.objects.all()\n",
    "    list_data = []\n",
    "    list_model_file_path = data_path + model_name + '.csv'\n",
    "    for obj in objs:\n",
    "        data = obj.__dict__\n",
    "        list_data.append(data)\n",
    "    df_list = pd.DataFrame(list_data)\n",
    "    df_list.to_csv(list_model_file_path, encoding='utf-8')"
   ]
  },
  {
   "cell_type": "code",
   "execution_count": null,
   "metadata": {},
   "outputs": [],
   "source": [
    "#Export Maternal CRF list data\n",
    "from django.db.models import get_model\n",
    "#crf, obj_id, field_name, m_name_cls, m_data\n",
    "list_data_crf = [['cancerdiagnosis', 'results_to_record', 'resultstorecord']]\n",
    "data = []\n",
    "for d in list_data_crf:\n",
    "    crf, field_name, many_model = d\n",
    "    cls = get_model('td_maternal', crf)\n",
    "    crf_objs = cls.objects.all()\n",
    "    for obj in crf_objs:\n",
    "        m_field_data = getattr(obj, field_name).all()\n",
    "        if m_field_data:\n",
    "            m_data = ''\n",
    "            for m_obj in m_field_data:\n",
    "                m_data += m_obj.short_name + '-' + m_obj.name + '|'\n",
    "            data.append([crf, obj.id, field_name, many_model, m_data])\n",
    "list_model_crf_data_file_path = data_path + 'df_crf_list' + '.csv'\n",
    "df_crf_list = pd.DataFrame(data)\n",
    "df_crf_list.to_csv(list_model_crf_data_file_path, encoding='utf-8')"
   ]
  },
  {
   "cell_type": "code",
   "execution_count": null,
   "metadata": {},
   "outputs": [],
   "source": [
    "#Export Infant CRF list data\n",
    "from django.db.models import get_model\n",
    "# crf, obj_id, field_name, m_name_cls, m_data\n",
    "# list_data_crf = [['parent_model', 'field_name', 'list_model']]\n",
    "list_data_crf = []\n",
    "data = []\n",
    "for d in list_data_crf:\n",
    "    crf, field_name, many_model = d\n",
    "    cls = get_model('td_infant', crf)\n",
    "    crf_objs = cls.objects.all()\n",
    "    for obj in crf_objs:\n",
    "        m_field_data = getattr(obj, field_name).all()\n",
    "        if m_field_data:\n",
    "            m_data = ''\n",
    "            for m_obj in m_field_data:\n",
    "                m_data += m_obj.short_name + '-' + m_obj.name + '|'\n",
    "            data.append([crf, obj.id, field_name, many_model, m_data])\n",
    "list_model_crf_data_file_path = data_path + 'df_crf_list' + '.csv'\n",
    "df_crf_list = pd.DataFrame(data)\n",
    "df_crf_list.to_csv(list_model_crf_data_file_path, encoding='utf-8')"
   ]
  }
 ],
 "metadata": {
  "kernelspec": {
   "display_name": "Django Shell-Plus",
   "language": "python",
   "name": "django_extensions"
  },
  "language_info": {
   "codemirror_mode": {
    "name": "ipython",
    "version": 3
   },
   "file_extension": ".py",
   "mimetype": "text/x-python",
   "name": "python",
   "nbconvert_exporter": "python",
   "pygments_lexer": "ipython3",
   "version": "3.7.2"
  }
 },
 "nbformat": 4,
 "nbformat_minor": 2
}
