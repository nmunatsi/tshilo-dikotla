{
 "cells": [
  {
   "cell_type": "code",
   "execution_count": null,
   "metadata": {},
   "outputs": [],
   "source": [
    "import os, sys\n",
    "import django\n",
    "import pytz\n",
    "from dateutil import parser\n",
    "from django.utils.timezone import make_aware\n",
    "\n",
    "sys.path.append('../..') # add path to project root dir\n",
    "os.environ[\"DJANGO_SETTINGS_MODULE\"] = \"tshilo_dikotla.settings\"\n",
    "\n",
    "# Connect to Django ORM\n",
    "django.setup()"
   ]
  },
  {
   "cell_type": "code",
   "execution_count": 3,
   "metadata": {},
   "outputs": [
    {
     "name": "stdout",
     "output_type": "stream",
     "text": [
      "Total update  905\n"
     ]
    }
   ],
   "source": [
    "from td_maternal.models import SubjectConsent\n",
    "identity_type_dict = {\n",
    "     'OMANG': 'country_id',\n",
    "     'PASSPORT': 'passport',\n",
    "     'OTHER': 'OTHER',\n",
    "     'OMANG_RCPT': 'country_id_rcpt'\n",
    "}\n",
    "count = 0\n",
    "for sc in SubjectConsent.objects.all():\n",
    "    if 'OMANG' == sc.identity_type:\n",
    "        sc.identity_type = identity_type_dict.get('OMANG')\n",
    "        sc.save_base(raw=True)\n",
    "        count += 1\n",
    "    elif 'PASSPORT' == sc.identity_type:\n",
    "        sc.identity_type = identity_type_dict.get('PASSPORT')\n",
    "        sc.save_base(raw=True)\n",
    "        count += 1\n",
    "    elif 'OMANG_RCPT' == sc.identity_type:\n",
    "        sc.identity_type = identity_type_dict.get('OMANG_RCPT')\n",
    "        sc.save_base(raw=True)\n",
    "        count += 1\n",
    "print(\"Total update \", count)"
   ]
  },
  {
   "cell_type": "code",
   "execution_count": null,
   "metadata": {},
   "outputs": [],
   "source": []
  }
 ],
 "metadata": {
  "kernelspec": {
   "display_name": "Django Shell-Plus",
   "language": "python",
   "name": "django_extensions"
  },
  "language_info": {
   "codemirror_mode": {
    "name": "ipython",
    "version": 3
   },
   "file_extension": ".py",
   "mimetype": "text/x-python",
   "name": "python",
   "nbconvert_exporter": "python",
   "pygments_lexer": "ipython3",
   "version": "3.7.4"
  }
 },
 "nbformat": 4,
 "nbformat_minor": 2
}
